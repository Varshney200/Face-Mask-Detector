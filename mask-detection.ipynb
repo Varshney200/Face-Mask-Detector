{
 "cells": [
  {
   "cell_type": "markdown",
   "metadata": {},
   "source": [
    "### import libraries"
   ]
  },
  {
   "cell_type": "code",
   "execution_count": 1,
   "metadata": {},
   "outputs": [],
   "source": [
    "import pandas as pd \n",
    "import numpy as np\n",
    "import tensorflow as tf\n",
    "from keras.preprocessing import image\n",
    "import cv2"
   ]
  },
  {
   "cell_type": "markdown",
   "metadata": {},
   "source": [
    "### load the CNN model"
   ]
  },
  {
   "cell_type": "code",
   "execution_count": 2,
   "metadata": {},
   "outputs": [],
   "source": [
    "model = tf.keras.models.load_model('my_model.h5')"
   ]
  },
  {
   "cell_type": "markdown",
   "metadata": {},
   "source": [
    "### cascade classifier"
   ]
  },
  {
   "cell_type": "code",
   "execution_count": 48,
   "metadata": {},
   "outputs": [],
   "source": [
    "face_cascade = cv2.CascadeClassifier('haarcascade_frontalface_default.xml')\n",
    "vid = cv2.VideoCapture(0)\n",
    "# labels_dict={0:'mask',1:'no mask'}\n",
    "color_dict={0:(0,255,0),1:(0,0,255)}"
   ]
  },
  {
   "cell_type": "markdown",
   "metadata": {},
   "source": [
    "### loop for all the real time frames "
   ]
  },
  {
   "cell_type": "code",
   "execution_count": 49,
   "metadata": {},
   "outputs": [],
   "source": [
    "while True:\n",
    "    #check returns bool, frame returns the image as numpy array\n",
    "    check, frame = vid.read()\n",
    "    #Convert image to grayscale\n",
    "    gray=cv2.cvtColor(frame,cv2.COLOR_BGR2RGB)\n",
    "    #Detect multiple faces. Returns a list of faces in the current frame.\n",
    "    faces = face_cascade.detectMultiScale(gray, 1.3, 5)\n",
    "    \n",
    "    #for each face in the frame we will find out whether the person is wearing a mask or not\n",
    "    for top, left, bottom, right in faces:\n",
    "        face_img=gray[left:left+bottom,top:top+bottom]\n",
    "        # taking out the roi, ie, the face\n",
    "        roi = cv2.resize(face_img,(256,256))\n",
    "        test_image = image.img_to_array(roi)\n",
    "        test_image = np.expand_dims(test_image , axis = 0)\n",
    "        result = model.predict(test_image)\n",
    "        \n",
    "        label=result[0][0]\n",
    "        if label>0.5:\n",
    "            res = 1\n",
    "        else:\n",
    "            res = 0\n",
    "        # labelling the face \n",
    "        cv2.rectangle(frame,(top,left),(top+bottom,left+right),color_dict[res],2)\n",
    "        cv2.rectangle(frame,(top,left-40),(top+bottom,left),color_dict[res],-1)\n",
    "        cv2.putText(frame, labels_dict[res], (top,left-10),cv2.FONT_HERSHEY_SIMPLEX,0.8,(255,255,255),2)\n",
    "#         if(label >0.5):\n",
    "#             cv2.putText(frame, (\"not wearing mask: %.2f \" % (label*100)), (top,left-10),cv2.FONT_HERSHEY_SIMPLEX,0.8,(255,255,255),2)\n",
    "#         else:\n",
    "#             cv2.putText(frame, (\"wearing mask,: %.2f \" % ((1-label)*100)), (top,left-10),cv2.FONT_HERSHEY_SIMPLEX,0.8,(255,255,255),2)\n",
    "        \n",
    "        \n",
    "    cv2.imshow('LIVE',frame)\n",
    "    key=cv2.waitKey(1)\n",
    "    # exit when q is pressed\n",
    "    if key == ord('q'):\n",
    "        break\n",
    "\n",
    "#exiting the camera\n",
    "vid.release()\n",
    "cv2.destroyAllWindows()"
   ]
  }
 ],
 "metadata": {
  "kernelspec": {
   "display_name": "Python 3",
   "language": "python",
   "name": "python3"
  },
  "language_info": {
   "codemirror_mode": {
    "name": "ipython",
    "version": 3
   },
   "file_extension": ".py",
   "mimetype": "text/x-python",
   "name": "python",
   "nbconvert_exporter": "python",
   "pygments_lexer": "ipython3",
   "version": "3.7.3"
  }
 },
 "nbformat": 4,
 "nbformat_minor": 2
}
