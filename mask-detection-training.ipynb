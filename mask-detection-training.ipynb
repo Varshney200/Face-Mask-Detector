{
 "cells": [
  {
   "cell_type": "markdown",
   "metadata": {},
   "source": [
    "### import libraries"
   ]
  },
  {
   "cell_type": "code",
   "execution_count": 1,
   "metadata": {},
   "outputs": [],
   "source": [
    "import pandas as pd \n",
    "import numpy as np\n",
    "import tensorflow as tf\n",
    "from keras.preprocessing.image import ImageDataGenerator"
   ]
  },
  {
   "cell_type": "code",
   "execution_count": 2,
   "metadata": {},
   "outputs": [
    {
     "data": {
      "text/plain": [
       "'2.4.0'"
      ]
     },
     "execution_count": 2,
     "metadata": {},
     "output_type": "execute_result"
    }
   ],
   "source": [
    "tf.__version__"
   ]
  },
  {
   "cell_type": "markdown",
   "metadata": {},
   "source": [
    "## Part 1 - Data preprocessing"
   ]
  },
  {
   "cell_type": "markdown",
   "metadata": {},
   "source": [
    "### Preprocessing the training set"
   ]
  },
  {
   "cell_type": "code",
   "execution_count": 3,
   "metadata": {},
   "outputs": [
    {
     "name": "stdout",
     "output_type": "stream",
     "text": [
      "Found 3274 images belonging to 2 classes.\n"
     ]
    }
   ],
   "source": [
    "data_gen = ImageDataGenerator(\n",
    "                rescale = 1/255,\n",
    "                rotation_range=0.4,\n",
    "                width_shift_range=0.3,\n",
    "                height_shift_range=0.3,\n",
    "                shear_range = 0.2,\n",
    "                zoom_range = 0.2,\n",
    "                validation_split=0.2,\n",
    "                horizontal_flip = True)\n",
    "train_set = data_gen.flow_from_directory(\n",
    "                            'C:/Users/ARCHITA/Desktop/Machine Learning/0. Projects/facemask detector/dataset',\n",
    "                            target_size = (256,256),\n",
    "                            batch_size = 32,\n",
    "                            class_mode = 'binary',\n",
    "                            subset='training'\n",
    "                            )"
   ]
  },
  {
   "cell_type": "markdown",
   "metadata": {},
   "source": [
    "### Preprocessing the test set"
   ]
  },
  {
   "cell_type": "code",
   "execution_count": 4,
   "metadata": {},
   "outputs": [
    {
     "name": "stdout",
     "output_type": "stream",
     "text": [
      "Found 818 images belonging to 2 classes.\n"
     ]
    }
   ],
   "source": [
    "test_set = data_gen.flow_from_directory(\n",
    "                            'C:/Users/ARCHITA/Desktop/Machine Learning/0. Projects/facemask detector/dataset',\n",
    "                            target_size = (256,256),\n",
    "                            batch_size = 32,\n",
    "                            class_mode = 'binary',\n",
    "                            subset='validation')"
   ]
  },
  {
   "cell_type": "markdown",
   "metadata": {},
   "source": [
    "## Part 2 - Building the CNN"
   ]
  },
  {
   "cell_type": "markdown",
   "metadata": {},
   "source": [
    "### Initialising the CNN"
   ]
  },
  {
   "cell_type": "code",
   "execution_count": 5,
   "metadata": {},
   "outputs": [],
   "source": [
    "cnn = tf.keras.models.Sequential()"
   ]
  },
  {
   "cell_type": "markdown",
   "metadata": {},
   "source": [
    "### Step 1 - Convolution"
   ]
  },
  {
   "cell_type": "code",
   "execution_count": 6,
   "metadata": {},
   "outputs": [],
   "source": [
    "cnn.add(tf.keras.layers.Conv2D(filters = 64 , kernel_size = 3, activation = 'relu', input_shape = [256,256,3]))"
   ]
  },
  {
   "cell_type": "markdown",
   "metadata": {},
   "source": [
    "### Step 2 - Pooling"
   ]
  },
  {
   "cell_type": "code",
   "execution_count": 7,
   "metadata": {},
   "outputs": [],
   "source": [
    "cnn.add(tf.keras.layers.MaxPool2D(pool_size = 2 , strides = 2))"
   ]
  },
  {
   "cell_type": "markdown",
   "metadata": {},
   "source": [
    "### Adding a second convolution layer"
   ]
  },
  {
   "cell_type": "code",
   "execution_count": 8,
   "metadata": {},
   "outputs": [],
   "source": [
    "cnn.add(tf.keras.layers.Conv2D(filters = 128 , kernel_size = 3, activation = 'relu'))\n",
    "cnn.add(tf.keras.layers.MaxPool2D(pool_size = 2 , strides = 2)) "
   ]
  },
  {
   "cell_type": "markdown",
   "metadata": {},
   "source": [
    "### Step 3 - Flattening"
   ]
  },
  {
   "cell_type": "code",
   "execution_count": 9,
   "metadata": {},
   "outputs": [],
   "source": [
    "cnn.add(tf.keras.layers.Flatten())\n",
    "cnn.add(tf.keras.layers.Dropout(0.2))"
   ]
  },
  {
   "cell_type": "markdown",
   "metadata": {},
   "source": [
    "### Step 4 - full connection"
   ]
  },
  {
   "cell_type": "code",
   "execution_count": 10,
   "metadata": {},
   "outputs": [],
   "source": [
    "cnn.add(tf.keras.layers.Dense(units = 128 , activation = 'relu'))"
   ]
  },
  {
   "cell_type": "markdown",
   "metadata": {},
   "source": [
    "### Step 5 - output layer"
   ]
  },
  {
   "cell_type": "code",
   "execution_count": 11,
   "metadata": {},
   "outputs": [],
   "source": [
    "cnn.add(tf.keras.layers.Dense(units = 1 , activation = 'sigmoid'))"
   ]
  },
  {
   "cell_type": "markdown",
   "metadata": {},
   "source": [
    "## Training the CNN"
   ]
  },
  {
   "cell_type": "markdown",
   "metadata": {},
   "source": [
    "### compiling the CNN"
   ]
  },
  {
   "cell_type": "code",
   "execution_count": 12,
   "metadata": {},
   "outputs": [
    {
     "name": "stdout",
     "output_type": "stream",
     "text": [
      "Model: \"sequential\"\n",
      "_________________________________________________________________\n",
      "Layer (type)                 Output Shape              Param #   \n",
      "=================================================================\n",
      "conv2d (Conv2D)              (None, 254, 254, 64)      1792      \n",
      "_________________________________________________________________\n",
      "max_pooling2d (MaxPooling2D) (None, 127, 127, 64)      0         \n",
      "_________________________________________________________________\n",
      "conv2d_1 (Conv2D)            (None, 125, 125, 128)     73856     \n",
      "_________________________________________________________________\n",
      "max_pooling2d_1 (MaxPooling2 (None, 62, 62, 128)       0         \n",
      "_________________________________________________________________\n",
      "flatten (Flatten)            (None, 492032)            0         \n",
      "_________________________________________________________________\n",
      "dropout (Dropout)            (None, 492032)            0         \n",
      "_________________________________________________________________\n",
      "dense (Dense)                (None, 128)               62980224  \n",
      "_________________________________________________________________\n",
      "dense_1 (Dense)              (None, 1)                 129       \n",
      "=================================================================\n",
      "Total params: 63,056,001\n",
      "Trainable params: 63,056,001\n",
      "Non-trainable params: 0\n",
      "_________________________________________________________________\n"
     ]
    }
   ],
   "source": [
    "cnn.compile(optimizer = 'adam' , loss = 'binary_crossentropy' , metrics = ['accuracy'])\n",
    "\n",
    "cnn.summary()"
   ]
  },
  {
   "cell_type": "markdown",
   "metadata": {},
   "source": [
    "### Training the CNN on the trainingset and evaluating it on the test set "
   ]
  },
  {
   "cell_type": "code",
   "execution_count": 13,
   "metadata": {},
   "outputs": [
    {
     "name": "stdout",
     "output_type": "stream",
     "text": [
      "Epoch 1/20\n",
      " 59/103 [================>.............] - ETA: 3:37 - loss: 2.2389 - accuracy: 0.6269"
     ]
    },
    {
     "name": "stderr",
     "output_type": "stream",
     "text": [
      "C:\\Users\\ARCHITA\\Anaconda3\\lib\\site-packages\\PIL\\Image.py:993: UserWarning: Palette images with Transparency expressed in bytes should be converted to RGBA images\n",
      "  \"Palette images with Transparency expressed in bytes should be \"\n"
     ]
    },
    {
     "name": "stdout",
     "output_type": "stream",
     "text": [
      "103/103 [==============================] - 509s 5s/step - loss: 1.6697 - accuracy: 0.6646 - val_loss: 0.4017 - val_accuracy: 0.8802\n",
      "Epoch 2/20\n",
      "103/103 [==============================] - 439s 4s/step - loss: 0.5119 - accuracy: 0.7832 - val_loss: 0.3133 - val_accuracy: 0.8900\n",
      "Epoch 3/20\n",
      "103/103 [==============================] - 433s 4s/step - loss: 0.4584 - accuracy: 0.8180 - val_loss: 0.2981 - val_accuracy: 0.9071\n",
      "Epoch 4/20\n",
      "103/103 [==============================] - 446s 4s/step - loss: 0.4063 - accuracy: 0.8365 - val_loss: 0.3411 - val_accuracy: 0.8729\n",
      "Epoch 5/20\n",
      "103/103 [==============================] - 432s 4s/step - loss: 0.3973 - accuracy: 0.8389 - val_loss: 0.3040 - val_accuracy: 0.9132\n",
      "Epoch 6/20\n",
      "103/103 [==============================] - 440s 4s/step - loss: 0.3616 - accuracy: 0.8551 - val_loss: 0.2470 - val_accuracy: 0.9205\n",
      "Epoch 7/20\n",
      "103/103 [==============================] - 434s 4s/step - loss: 0.4053 - accuracy: 0.8305 - val_loss: 0.2441 - val_accuracy: 0.9144\n",
      "Epoch 8/20\n",
      "103/103 [==============================] - 436s 4s/step - loss: 0.3141 - accuracy: 0.8704 - val_loss: 0.2575 - val_accuracy: 0.9071\n",
      "Epoch 9/20\n",
      "103/103 [==============================] - 441s 4s/step - loss: 0.3413 - accuracy: 0.8592 - val_loss: 0.2151 - val_accuracy: 0.9205\n",
      "Epoch 10/20\n",
      "103/103 [==============================] - 443s 4s/step - loss: 0.3374 - accuracy: 0.8656 - val_loss: 0.2415 - val_accuracy: 0.9156\n",
      "Epoch 11/20\n",
      "103/103 [==============================] - 437s 4s/step - loss: 0.2988 - accuracy: 0.8824 - val_loss: 0.1962 - val_accuracy: 0.9315\n",
      "Epoch 12/20\n",
      "103/103 [==============================] - 440s 4s/step - loss: 0.2990 - accuracy: 0.8857 - val_loss: 0.2136 - val_accuracy: 0.9205\n",
      "Epoch 13/20\n",
      "103/103 [==============================] - 439s 4s/step - loss: 0.2861 - accuracy: 0.8861 - val_loss: 0.2178 - val_accuracy: 0.9267\n",
      "Epoch 14/20\n",
      "103/103 [==============================] - 439s 4s/step - loss: 0.2778 - accuracy: 0.8890 - val_loss: 0.2514 - val_accuracy: 0.9010\n",
      "Epoch 15/20\n",
      "103/103 [==============================] - 439s 4s/step - loss: 0.2860 - accuracy: 0.8854 - val_loss: 0.2465 - val_accuracy: 0.9230\n",
      "Epoch 16/20\n",
      "103/103 [==============================] - 442s 4s/step - loss: 0.2801 - accuracy: 0.8891 - val_loss: 0.1884 - val_accuracy: 0.9450\n",
      "Epoch 17/20\n",
      "103/103 [==============================] - 440s 4s/step - loss: 0.2705 - accuracy: 0.8929 - val_loss: 0.2338 - val_accuracy: 0.9279\n",
      "Epoch 18/20\n",
      "103/103 [==============================] - 438s 4s/step - loss: 0.3152 - accuracy: 0.8789 - val_loss: 0.2813 - val_accuracy: 0.9010\n",
      "Epoch 19/20\n",
      "103/103 [==============================] - 440s 4s/step - loss: 0.2733 - accuracy: 0.8828 - val_loss: 0.2400 - val_accuracy: 0.8924\n",
      "Epoch 20/20\n",
      "103/103 [==============================] - 441s 4s/step - loss: 0.2715 - accuracy: 0.8877 - val_loss: 0.2071 - val_accuracy: 0.9169\n"
     ]
    },
    {
     "data": {
      "text/plain": [
       "<tensorflow.python.keras.callbacks.History at 0x1b4d4f30278>"
      ]
     },
     "execution_count": 13,
     "metadata": {},
     "output_type": "execute_result"
    }
   ],
   "source": [
    "cnn.fit(x = train_set, validation_data = test_set , epochs = 20)"
   ]
  },
  {
   "cell_type": "markdown",
   "metadata": {},
   "source": [
    "## Making a single prediction"
   ]
  },
  {
   "cell_type": "code",
   "execution_count": 14,
   "metadata": {},
   "outputs": [
    {
     "name": "stdout",
     "output_type": "stream",
     "text": [
      "0.0\n",
      "mask\n"
     ]
    }
   ],
   "source": [
    "from keras.preprocessing import image\n",
    "test_image = image.load_img('C:/Users/ARCHITA/Desktop/Machine Learning/0. Projects/facemask detector/images/pic1.jpg', target_size = (256,256))\n",
    "test_image = image.img_to_array(test_image)\n",
    "test_image = np.expand_dims(test_image , axis = 0)\n",
    "result = cnn.predict(test_image)\n",
    "# print(train_set.class_indices)\n",
    "score = result[0][0]\n",
    "print(score)\n",
    "if score>0.5:\n",
    "    print(\"No mask\")\n",
    "else:\n",
    "    print(\"mask\")"
   ]
  },
  {
   "cell_type": "code",
   "execution_count": 15,
   "metadata": {},
   "outputs": [],
   "source": [
    "cnn.save('my_model.h5') "
   ]
  },
  {
   "cell_type": "code",
   "execution_count": 16,
   "metadata": {},
   "outputs": [],
   "source": [
    "new_model = tf.keras.models.load_model('my_model.h5')"
   ]
  },
  {
   "cell_type": "code",
   "execution_count": 17,
   "metadata": {},
   "outputs": [
    {
     "data": {
      "text/plain": [
       "array([[0.]], dtype=float32)"
      ]
     },
     "execution_count": 17,
     "metadata": {},
     "output_type": "execute_result"
    }
   ],
   "source": [
    "from keras.preprocessing import image\n",
    "test_image = image.load_img('C:/Users/ARCHITA/Desktop/Machine Learning/0. Projects/facemask detector/images/pic1.jpg', target_size = (256,256))\n",
    "test_image = image.img_to_array(test_image)\n",
    "test_image = np.expand_dims(test_image , axis = 0)\n",
    "result = new_model.predict(test_image)\n",
    "result"
   ]
  }
 ],
 "metadata": {
  "kernelspec": {
   "display_name": "Python 3",
   "language": "python",
   "name": "python3"
  },
  "language_info": {
   "codemirror_mode": {
    "name": "ipython",
    "version": 3
   },
   "file_extension": ".py",
   "mimetype": "text/x-python",
   "name": "python",
   "nbconvert_exporter": "python",
   "pygments_lexer": "ipython3",
   "version": "3.7.3"
  }
 },
 "nbformat": 4,
 "nbformat_minor": 2
}
